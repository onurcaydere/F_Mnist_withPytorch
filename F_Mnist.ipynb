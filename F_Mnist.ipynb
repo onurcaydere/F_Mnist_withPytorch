{
 "cells": [
  {
   "cell_type": "code",
   "execution_count": 1,
   "id": "da568986-efd3-4651-9982-d8f74f731d6e",
   "metadata": {},
   "outputs": [],
   "source": [
    "import torch\n",
    "import torch.nn as nn\n",
    "import torch.nn.functional as F\n",
    "from torch.utils.data import DataLoader\n",
    "from torchvision import datasets,transforms,models\n",
    "\n",
    "import numpy as np\n",
    "import pandas as pd\n",
    "import matplotlib.pyplot as plt\n",
    "\n",
    "from sklearn.metrics import confusion_matrix"
   ]
  },
  {
   "cell_type": "code",
   "execution_count": 10,
   "id": "c0422025-9850-4978-82ec-2c74fa18d990",
   "metadata": {},
   "outputs": [],
   "source": [
    "transform=transforms.ToTensor()"
   ]
  },
  {
   "cell_type": "code",
   "execution_count": 36,
   "id": "e2d9df8c-32d8-4e7b-8c84-d80a0a052931",
   "metadata": {},
   "outputs": [],
   "source": [
    "train_data=datasets.FashionMNIST(root=\"F_Mnist\",train=True,download=True,transform=transform)\n",
    "test_data=datasets.FashionMNIST(root=\"F_Mnist\",train=False,download=True,transform=transform)\n",
    "\n",
    "train_loader=DataLoader(train_data,batch_size=10,shuffle=True)\n",
    "test_loader=DataLoader(test_data,batch_size=10,shuffle=True)"
   ]
  },
  {
   "cell_type": "code",
   "execution_count": 37,
   "id": "e4b931fd-06a6-420b-872c-437d8e58b683",
   "metadata": {},
   "outputs": [
    {
     "name": "stdout",
     "output_type": "stream",
     "text": [
      "['T-shirt/top', 'Trouser', 'Pullover', 'Dress', 'Coat', 'Sandal', 'Shirt', 'Sneaker', 'Bag', 'Ankle boot']\n"
     ]
    }
   ],
   "source": [
    "\n",
    "classes_names=train_data.classes\n",
    "print(classes_names)"
   ]
  },
  {
   "cell_type": "code",
   "execution_count": 54,
   "id": "4d09ae98-21ff-4eb0-9a2e-2e91e0d3bb0a",
   "metadata": {},
   "outputs": [
    {
     "data": {
      "text/plain": [
       "10000"
      ]
     },
     "execution_count": 54,
     "metadata": {},
     "output_type": "execute_result"
    }
   ],
   "source": [
    "len(test_data)\n"
   ]
  },
  {
   "cell_type": "code",
   "execution_count": 39,
   "id": "f083a927-c812-4b12-9715-5c14c1b4eda9",
   "metadata": {},
   "outputs": [
    {
     "name": "stdout",
     "output_type": "stream",
     "text": [
      "torch.Size([10, 1, 28, 28])\n"
     ]
    }
   ],
   "source": [
    "for i,(images,labels) in enumerate(train_loader):\n",
    "    break\n",
    "print(images.shape)"
   ]
  },
  {
   "cell_type": "code",
   "execution_count": 45,
   "id": "bc9f0faf-dce1-4e56-b351-be475dde7114",
   "metadata": {},
   "outputs": [],
   "source": [
    "class F_CNN(nn.Module):\n",
    "    def __init__(self):\n",
    "        super().__init__()\n",
    "        self.Sequential=nn.Sequential(\n",
    "            nn.Conv2d(1,6,3,1), # input,output,Kernel_size,stride # 26,26\n",
    "            nn.ReLU(),\n",
    "            nn.MaxPool2d(2,2), # 13,13\n",
    "            nn.Conv2d(6,16,3,1), #11,11\n",
    "            nn.ReLU(),\n",
    "            nn.MaxPool2d(2,2)  #5,5\n",
    "        )\n",
    "     \n",
    "        self.fc1=nn.Linear(16*5*5,84)\n",
    "        self.fc2=nn.Linear(84,10)\n",
    "        \n",
    "    def forward(self,x):\n",
    "        x=self.Sequential(x)\n",
    "        x=x.view(-1,16*5*5)\n",
    "        x=F.relu(self.fc1(x))\n",
    "        x=self.fc2(x)\n",
    "        \n",
    "        return F.log_softmax(x,dim=1)\n",
    "        \n",
    "\n"
   ]
  },
  {
   "cell_type": "code",
   "execution_count": 46,
   "id": "acbef058-6648-415e-8917-2009e7ca6584",
   "metadata": {},
   "outputs": [
    {
     "data": {
      "text/plain": [
       "F_CNN(\n",
       "  (Sequential): Sequential(\n",
       "    (0): Conv2d(1, 6, kernel_size=(3, 3), stride=(1, 1))\n",
       "    (1): ReLU()\n",
       "    (2): MaxPool2d(kernel_size=2, stride=2, padding=0, dilation=1, ceil_mode=False)\n",
       "    (3): Conv2d(6, 16, kernel_size=(3, 3), stride=(1, 1))\n",
       "    (4): ReLU()\n",
       "    (5): MaxPool2d(kernel_size=2, stride=2, padding=0, dilation=1, ceil_mode=False)\n",
       "  )\n",
       "  (fc1): Linear(in_features=400, out_features=84, bias=True)\n",
       "  (fc2): Linear(in_features=84, out_features=10, bias=True)\n",
       ")"
      ]
     },
     "execution_count": 46,
     "metadata": {},
     "output_type": "execute_result"
    }
   ],
   "source": [
    "model=F_CNN()\n",
    "model"
   ]
  },
  {
   "cell_type": "code",
   "execution_count": 47,
   "id": "8921c005-f24d-4fd6-992d-d5b632a8393f",
   "metadata": {},
   "outputs": [
    {
     "name": "stdout",
     "output_type": "stream",
     "text": [
      "54\n",
      "6\n",
      "864\n",
      "16\n",
      "33600\n",
      "84\n",
      "840\n",
      "10\n"
     ]
    }
   ],
   "source": [
    "for param in model.parameters():\n",
    "    print(param.numel())"
   ]
  },
  {
   "cell_type": "code",
   "execution_count": 48,
   "id": "200901a2-8db0-4466-b86a-83481a4e1e78",
   "metadata": {},
   "outputs": [],
   "source": [
    "criterion=nn.CrossEntropyLoss()\n",
    "optimizer=torch.optim.SGD(model.parameters(),lr=0.001,momentum=0.7)"
   ]
  },
  {
   "cell_type": "code",
   "execution_count": 49,
   "id": "62d09661-1ec3-411d-b209-5eed2068506a",
   "metadata": {},
   "outputs": [
    {
     "name": "stdout",
     "output_type": "stream",
     "text": [
      "Epoch 0 Batch 6000 Loss 0.7987012267112732\n",
      "Epoch 1 Batch 6000 Loss 0.6438307762145996\n",
      "Epoch 2 Batch 6000 Loss 1.0439417362213135\n",
      "Epoch 3 Batch 6000 Loss 0.021302254870533943\n",
      "Epoch 4 Batch 6000 Loss 0.7541567087173462\n"
     ]
    }
   ],
   "source": [
    "train_losses=[]\n",
    "test_losses=[]\n",
    "train_acc=[]\n",
    "test_acc=[]\n",
    "\n",
    "epochs=5\n",
    "\n",
    "for epoch in range(epochs):\n",
    "    correct_train=0\n",
    "    correct_test=0\n",
    "    \n",
    "    for b,(x_train,y_train) in enumerate(train_loader):\n",
    "        b+=1\n",
    "        y_pred=model(x_train)\n",
    "        loss=criterion(y_pred,y_train)\n",
    "        # ACC CALCULATE\n",
    "        pred_max=torch.max(y_pred.data,1)[1]\n",
    "        correct_train+=(pred_max==y_train).sum()\n",
    "        \n",
    "        optimizer.zero_grad()\n",
    "        loss.backward()\n",
    "        optimizer.step()\n",
    "        if(b%6000==0):\n",
    "            print(\"Epoch {} Batch {} Loss {}\".format(epoch,b,loss.item()))\n",
    "    train_losses.append(loss.item())\n",
    "    train_acc.append(correct_train)\n",
    "    \n",
    "    with torch.no_grad():\n",
    "        for b,(x_test,y_test) in enumerate(test_loader):\n",
    "            y_pred=model(x_test)\n",
    "            pred_max=torch.max(y_pred.data,1)[1]\n",
    "            correct_test+=(pred_max==y_test).sum()\n",
    "        loss=criterion(y_pred,y_test)\n",
    "        test_losses.append(loss.item())\n",
    "        test_acc.append(correct_test)\n",
    "        \n",
    "        "
   ]
  },
  {
   "cell_type": "code",
   "execution_count": 51,
   "id": "a131a4d3-5bb0-4cb8-a8a3-0a5d492a11ae",
   "metadata": {},
   "outputs": [
    {
     "data": {
      "text/plain": [
       "<matplotlib.legend.Legend at 0x29a87e32ee0>"
      ]
     },
     "execution_count": 51,
     "metadata": {},
     "output_type": "execute_result"
    },
    {
     "data": {
      "image/png": "[encoded data removed]",
      "text/plain": [
       "<Figure size 432x288 with 1 Axes>"
      ]
     },
     "metadata": {
      "needs_background": "light"
     },
     "output_type": "display_data"
    }
   ],
   "source": [
    "plt.plot(train_losses,label=\"Train Loss\")\n",
    "plt.plot(test_losses,label=\"Test Loss\")\n",
    "plt.legend()"
   ]
  },
  {
   "cell_type": "code",
   "execution_count": 65,
   "id": "c9c61f16-8ef7-47d3-84c0-1f65de53c551",
   "metadata": {},
   "outputs": [
    {
     "data": {
      "text/plain": [
       "<matplotlib.legend.Legend at 0x29a830d67f0>"
      ]
     },
     "execution_count": 65,
     "metadata": {},
     "output_type": "execute_result"
    },
    {
     "data": {
      "image/png": "[encoded data removed]",
      "text/plain": [
       "<Figure size 432x288 with 1 Axes>"
      ]
     },
     "metadata": {
      "needs_background": "light"
     },
     "output_type": "display_data"
    }
   ],
   "source": [
    "plt.plot([10*t/10000 for t in train_acc],label=\"Train Acc\")\n",
    "plt.plot([10*t/10000 for t in test_acc],label=\"Test Acc\")\n",
    "plt.legend()"
   ]
  },
  {
   "cell_type": "code",
   "execution_count": 67,
   "id": "d214d34e-0c8b-427e-baee-d78446832795",
   "metadata": {},
   "outputs": [
    {
     "name": "stdout",
     "output_type": "stream",
     "text": [
      "[tensor(35.2760), tensor(45.9640), tensor(47.9360), tensor(48.9430), tensor(49.7180)]\n",
      "[tensor(72.4500), tensor(76.2100), tensor(79.6100), tensor(81.4700), tensor(82.5500)]\n"
     ]
    }
   ],
   "source": [
    "a=[10*t/10000 for t in train_acc]\n",
    "b=[100*t/10000 for t in test_acc]\n",
    "print(a)\n",
    "print(b)"
   ]
  },
  {
   "cell_type": "code",
   "execution_count": 55,
   "id": "6b0082fc-de74-4a1e-b532-9b6921c214bf",
   "metadata": {},
   "outputs": [
    {
     "data": {
      "text/plain": [
       "0.8255"
      ]
     },
     "execution_count": 55,
     "metadata": {},
     "output_type": "execute_result"
    }
   ],
   "source": [
    "test_loader_all=DataLoader(test_data,batch_size=10000,shuffle=False)\n",
    "with torch.no_grad():\n",
    "    correct=0\n",
    "    for i,(test,label) in enumerate(test_loader_all):\n",
    "        out=model(test)\n",
    "        pred=torch.max(out.data,1)[1]\n",
    "        correct+=(pred==label).sum()\n",
    "correct.item()/len(test_data)"
   ]
  },
  {
   "cell_type": "code",
   "execution_count": 57,
   "id": "77207fa8-7f02-4341-bf82-2b823a0f814e",
   "metadata": {},
   "outputs": [
    {
     "data": {
      "text/plain": [
       "82.55"
      ]
     },
     "execution_count": 57,
     "metadata": {},
     "output_type": "execute_result"
    }
   ],
   "source": [
    "100*test_acc[-1].item()/10000"
   ]
  },
  {
   "cell_type": "code",
   "execution_count": 74,
   "id": "334f202c-f1ff-43f4-9e47-c3068ebf2a01",
   "metadata": {},
   "outputs": [],
   "source": [
    "from sklearn.metrics import classification_report\n",
    "cm=confusion_matrix(pred.view(-1),label.view(-1))\n",
    "cr=classification_report(pred.view(-1),label.view(-1))\n"
   ]
  },
  {
   "cell_type": "code",
   "execution_count": 75,
   "id": "9386bdae-57aa-4872-806a-1f7a01f66785",
   "metadata": {},
   "outputs": [
    {
     "data": {
      "text/plain": [
       "array([[804,   1,  17,  23,   2,   0, 212,   0,   3,   0],\n",
       "       [  1, 952,   1,   8,   0,   0,   1,   0,   1,   0],\n",
       "       [ 36,   1, 801,  25, 158,   0, 205,   0,  22,   0],\n",
       "       [ 88,  38,  20, 905,  51,   2,  72,   0,   9,   0],\n",
       "       [  6,   4, 121,  21, 711,   0, 151,   0,   2,   0],\n",
       "       [  2,   1,   1,   0,   0, 931,   1,  27,   2,   8],\n",
       "       [ 42,   1,  27,  11,  68,   0, 324,   0,   4,   0],\n",
       "       [  1,   0,   0,   0,   0,  46,   0, 925,   4,  40],\n",
       "       [ 20,   2,  12,   7,  10,   2,  34,   1, 951,   1],\n",
       "       [  0,   0,   0,   0,   0,  19,   0,  47,   2, 951]], dtype=int64)"
      ]
     },
     "execution_count": 75,
     "metadata": {},
     "output_type": "execute_result"
    }
   ],
   "source": [
    "cm"
   ]
  },
  {
   "cell_type": "code",
   "execution_count": 78,
   "id": "82e1ef3d-b082-4519-9b72-8ef62c2e65cb",
   "metadata": {},
   "outputs": [
    {
     "name": "stdout",
     "output_type": "stream",
     "text": [
      "              precision    recall  f1-score   support\n",
      "\n",
      "           0       0.80      0.76      0.78      1062\n",
      "           1       0.95      0.99      0.97       964\n",
      "           2       0.80      0.64      0.71      1248\n",
      "           3       0.91      0.76      0.83      1185\n",
      "           4       0.71      0.70      0.71      1016\n",
      "           5       0.93      0.96      0.94       973\n",
      "           6       0.32      0.68      0.44       477\n",
      "           7       0.93      0.91      0.92      1016\n",
      "           8       0.95      0.91      0.93      1040\n",
      "           9       0.95      0.93      0.94      1019\n",
      "\n",
      "    accuracy                           0.83     10000\n",
      "   macro avg       0.83      0.82      0.82     10000\n",
      "weighted avg       0.85      0.83      0.83     10000\n",
      "\n"
     ]
    }
   ],
   "source": [
    "print(cr)"
   ]
  },
  {
   "cell_type": "code",
   "execution_count": 85,
   "id": "acd2e17d-448e-46d1-976c-ed7e1a80db85",
   "metadata": {},
   "outputs": [
    {
     "data": {
      "image/png": "[encoded data removed]",
      "text/plain": [
       "<Figure size 432x288 with 1 Axes>"
      ]
     },
     "metadata": {
      "needs_background": "light"
     },
     "output_type": "display_data"
    }
   ],
   "source": [
    "import seaborn as sns\n",
    "\n",
    "sns.heatmap(cm,square=True, annot=True,cbar=False,cmap=plt.cm.Blues,fmt=\"d\",linewidths=1,linecolor=\"red\")\n",
    "\n",
    "plt.xlabel(\"True Values\")\n",
    "plt.ylabel(\"Predicted Values\")\n",
    "plt.show()\n"
   ]
  },
  {
   "cell_type": "code",
   "execution_count": 86,
   "id": "0c5e5339-1a1e-44fd-a23a-bc091f20f82f",
   "metadata": {},
   "outputs": [
    {
     "data": {
      "text/plain": [
       "<matplotlib.image.AxesImage at 0x29a8d23c1f0>"
      ]
     },
     "execution_count": 86,
     "metadata": {},
     "output_type": "execute_result"
    },
    {
     "data": {
      "image/png": "[encoded data removed]",
      "text/plain": [
       "<Figure size 432x288 with 1 Axes>"
      ]
     },
     "metadata": {
      "needs_background": "light"
     },
     "output_type": "display_data"
    }
   ],
   "source": [
    "plt.imshow(test_data[1000][0].reshape(28,28))"
   ]
  },
  {
   "cell_type": "code",
   "execution_count": 89,
   "id": "118583c4-dd03-4d9a-b38f-e6676252e926",
   "metadata": {},
   "outputs": [
    {
     "data": {
      "text/plain": [
       "'T-shirt/top'"
      ]
     },
     "execution_count": 89,
     "metadata": {},
     "output_type": "execute_result"
    }
   ],
   "source": [
    "model.eval()\n",
    "with torch.no_grad():\n",
    "    pred=model(test_data[1000][0].view(1,1,28,28))\n",
    "pred=np.argmax(pred)\n",
    "classes_names[pred.item()]"
   ]
  },
  {
   "cell_type": "code",
   "execution_count": 90,
   "id": "ff06b961-8e82-4830-9dc7-ec266f814e57",
   "metadata": {},
   "outputs": [
    {
     "data": {
      "text/plain": [
       "'T-shirt/top'"
      ]
     },
     "execution_count": 90,
     "metadata": {},
     "output_type": "execute_result"
    }
   ],
   "source": [
    "classes_names[test_data[1000][1]]"
   ]
  },
  {
   "cell_type": "code",
   "execution_count": null,
   "id": "a333ac11-f05d-488e-a45b-eb02c02f7a19",
   "metadata": {},
   "outputs": [],
   "source": []
  }
 ],
 "metadata": {
  "kernelspec": {
   "display_name": "Python 3 (ipykernel)",
   "language": "python",
   "name": "python3"
  },
  "language_info": {
   "codemirror_mode": {
    "name": "ipython",
    "version": 3
   },
   "file_extension": ".py",
   "mimetype": "text/x-python",
   "name": "python",
   "nbconvert_exporter": "python",
   "pygments_lexer": "ipython3",
   "version": "3.8.12"
  }
 },
 "nbformat": 4,
 "nbformat_minor": 5
}
